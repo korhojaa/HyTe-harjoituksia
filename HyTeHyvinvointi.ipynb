{
  "nbformat": 4,
  "nbformat_minor": 0,
  "metadata": {
    "colab": {
      "name": "HyTeHyvinvointi.ipynb",
      "provenance": [],
      "include_colab_link": true
    },
    "kernelspec": {
      "name": "python3",
      "display_name": "Python 3"
    }
  },
  "cells": [
    {
      "cell_type": "markdown",
      "metadata": {
        "id": "view-in-github",
        "colab_type": "text"
      },
      "source": [
        "<a href=\"https://colab.research.google.com/github/korhojaa/HyTe-harjoituksia/blob/master/HyTeHyvinvointi.ipynb\" target=\"_parent\"><img src=\"https://colab.research.google.com/assets/colab-badge.svg\" alt=\"Open In Colab\"/></a>"
      ]
    },
    {
      "cell_type": "markdown",
      "metadata": {
        "id": "SlLsSDuM2s83",
        "colab_type": "text"
      },
      "source": [
        "Moi kaikki!"
      ]
    },
    {
      "cell_type": "code",
      "metadata": {
        "id": "E-P8PRf8u5i_",
        "colab_type": "code",
        "outputId": "84aff027-022c-4f0b-f95b-c3da3cb29185",
        "colab": {
          "base_uri": "https://localhost:8080/",
          "height": 71
        }
      },
      "source": [
        "import pandas as pd\n",
        "import numpy as np\n",
        "import matplotlib.pyplot as plt\n",
        "import seaborn as sns"
      ],
      "execution_count": 0,
      "outputs": [
        {
          "output_type": "stream",
          "text": [
            "/usr/local/lib/python3.6/dist-packages/statsmodels/tools/_testing.py:19: FutureWarning: pandas.util.testing is deprecated. Use the functions in the public API at pandas.testing instead.\n",
            "  import pandas.util.testing as tm\n"
          ],
          "name": "stderr"
        }
      ]
    },
    {
      "cell_type": "code",
      "metadata": {
        "id": "F43tx1XUhode",
        "colab_type": "code",
        "outputId": "37e21017-06e7-4b9b-961e-a711e4940873",
        "colab": {
          "base_uri": "https://localhost:8080/",
          "height": 204
        }
      },
      "source": [
        "dat = pd.read_csv(\"https://raw.githubusercontent.com/Digivitonen/Hyvinvointikysely/master/Vastaukset_kapea.csv\")\n",
        "\n",
        "dat[0:5] #tulostetaan otsikko ja 5 ensimmäistä riviä tarkistuksen vuoksi"
      ],
      "execution_count": 0,
      "outputs": [
        {
          "output_type": "execute_result",
          "data": {
            "text/html": [
              "<div>\n",
              "<style scoped>\n",
              "    .dataframe tbody tr th:only-of-type {\n",
              "        vertical-align: middle;\n",
              "    }\n",
              "\n",
              "    .dataframe tbody tr th {\n",
              "        vertical-align: top;\n",
              "    }\n",
              "\n",
              "    .dataframe thead th {\n",
              "        text-align: right;\n",
              "    }\n",
              "</style>\n",
              "<table border=\"1\" class=\"dataframe\">\n",
              "  <thead>\n",
              "    <tr style=\"text-align: right;\">\n",
              "      <th></th>\n",
              "      <th>Aikaleima</th>\n",
              "      <th>Nimimerkki</th>\n",
              "      <th>Vastaus</th>\n",
              "      <th>Kysymys</th>\n",
              "    </tr>\n",
              "  </thead>\n",
              "  <tbody>\n",
              "    <tr>\n",
              "      <th>0</th>\n",
              "      <td>1.6.2020</td>\n",
              "      <td>1500</td>\n",
              "      <td>4.0</td>\n",
              "      <td>Elamassani on ihmisia jotka osoittavat valitta...</td>\n",
              "    </tr>\n",
              "    <tr>\n",
              "      <th>1</th>\n",
              "      <td>3.6.2020</td>\n",
              "      <td>7469</td>\n",
              "      <td>3.0</td>\n",
              "      <td>Elamassani on ihmisia jotka osoittavat valitta...</td>\n",
              "    </tr>\n",
              "    <tr>\n",
              "      <th>2</th>\n",
              "      <td>29.5.2020</td>\n",
              "      <td>7968</td>\n",
              "      <td>5.0</td>\n",
              "      <td>Elamassani on ihmisia jotka osoittavat valitta...</td>\n",
              "    </tr>\n",
              "    <tr>\n",
              "      <th>3</th>\n",
              "      <td>29.5.2020</td>\n",
              "      <td>9253</td>\n",
              "      <td>5.0</td>\n",
              "      <td>Elamassani on ihmisia jotka osoittavat valitta...</td>\n",
              "    </tr>\n",
              "    <tr>\n",
              "      <th>4</th>\n",
              "      <td>1.6.2020</td>\n",
              "      <td>21084</td>\n",
              "      <td>5.0</td>\n",
              "      <td>Elamassani on ihmisia jotka osoittavat valitta...</td>\n",
              "    </tr>\n",
              "  </tbody>\n",
              "</table>\n",
              "</div>"
            ],
            "text/plain": [
              "   Aikaleima  ...                                            Kysymys\n",
              "0   1.6.2020  ...  Elamassani on ihmisia jotka osoittavat valitta...\n",
              "1   3.6.2020  ...  Elamassani on ihmisia jotka osoittavat valitta...\n",
              "2  29.5.2020  ...  Elamassani on ihmisia jotka osoittavat valitta...\n",
              "3  29.5.2020  ...  Elamassani on ihmisia jotka osoittavat valitta...\n",
              "4   1.6.2020  ...  Elamassani on ihmisia jotka osoittavat valitta...\n",
              "\n",
              "[5 rows x 4 columns]"
            ]
          },
          "metadata": {
            "tags": []
          },
          "execution_count": 39
        }
      ]
    },
    {
      "cell_type": "code",
      "metadata": {
        "id": "NaH-e9Hxjla-",
        "colab_type": "code",
        "outputId": "17eeea4c-4e87-417d-cd0d-8e8c5de5c347",
        "colab": {
          "base_uri": "https://localhost:8080/",
          "height": 297
        }
      },
      "source": [
        "#Veera teki muuttujat jokaiselle kysymykselle\n",
        "dat1 = dat[dat.Kysymys== 'Elamassani on ihmisia jotka osoittavat valittavansa minusta']\n",
        "dat2 = dat[dat.Kysymys== 'Selvian arkielaman haasteista']\n",
        "dat3 = dat[dat.Kysymys== 'Taman hetkisessa arjessani koen turvattomuutta']\n",
        "dat4 = dat[dat.Kysymys== 'Soimaan itseani mokista tarpeettomasti']\n",
        "dat5 = dat[dat.Kysymys== 'Olen ryhmassa mieluiten hiljaa sillä pelkaan sanovani jotain typeraa enka kaipaa muiden huomiota']\n",
        "dat6 = dat[dat.Kysymys== 'Pelkaan etta en ole riittavan hyva']\n",
        "dat7 = dat[dat.Kysymys== 'Koti on turvallisen tuntuinen paikka minulle']\n",
        "dat8 = dat[dat.Kysymys== 'Uudet asiat ovat mahdollisuuksia ei uhkia']\n",
        "dat9 = dat[dat.Kysymys== 'Luotan tulevaan']\n",
        "dat10 = dat[dat.Kysymys== 'Minun on aina suoriuduttava hyvin elamassani etta parjaan']\n",
        "dat11 = dat[dat.Kysymys== 'Uskon etta selvian taman paivan tehtavistani hyvin']\n",
        "dat12 = dat[dat.Kysymys== 'Haluan palautetta melko usein silla muuten en tieda ollaanko tyohoni tyytyvaisia']\n",
        "\n",
        "dat7\n"
      ],
      "execution_count": 0,
      "outputs": [
        {
          "output_type": "execute_result",
          "data": {
            "text/html": [
              "<div>\n",
              "<style scoped>\n",
              "    .dataframe tbody tr th:only-of-type {\n",
              "        vertical-align: middle;\n",
              "    }\n",
              "\n",
              "    .dataframe tbody tr th {\n",
              "        vertical-align: top;\n",
              "    }\n",
              "\n",
              "    .dataframe thead th {\n",
              "        text-align: right;\n",
              "    }\n",
              "</style>\n",
              "<table border=\"1\" class=\"dataframe\">\n",
              "  <thead>\n",
              "    <tr style=\"text-align: right;\">\n",
              "      <th></th>\n",
              "      <th>Aikaleima</th>\n",
              "      <th>Nimimerkki</th>\n",
              "      <th>Vastaus</th>\n",
              "      <th>Kysymys</th>\n",
              "    </tr>\n",
              "  </thead>\n",
              "  <tbody>\n",
              "    <tr>\n",
              "      <th>86</th>\n",
              "      <td>3.6.2020</td>\n",
              "      <td>1500</td>\n",
              "      <td>4.0</td>\n",
              "      <td>Koti on turvallisen tuntuinen paikka minulle</td>\n",
              "    </tr>\n",
              "    <tr>\n",
              "      <th>87</th>\n",
              "      <td>3.6.2020</td>\n",
              "      <td>7968</td>\n",
              "      <td>5.0</td>\n",
              "      <td>Koti on turvallisen tuntuinen paikka minulle</td>\n",
              "    </tr>\n",
              "    <tr>\n",
              "      <th>88</th>\n",
              "      <td>3.6.2020</td>\n",
              "      <td>9253</td>\n",
              "      <td>5.0</td>\n",
              "      <td>Koti on turvallisen tuntuinen paikka minulle</td>\n",
              "    </tr>\n",
              "    <tr>\n",
              "      <th>89</th>\n",
              "      <td>3.6.2020</td>\n",
              "      <td>34725</td>\n",
              "      <td>4.0</td>\n",
              "      <td>Koti on turvallisen tuntuinen paikka minulle</td>\n",
              "    </tr>\n",
              "    <tr>\n",
              "      <th>90</th>\n",
              "      <td>3.6.2020</td>\n",
              "      <td>123098</td>\n",
              "      <td>5.0</td>\n",
              "      <td>Koti on turvallisen tuntuinen paikka minulle</td>\n",
              "    </tr>\n",
              "    <tr>\n",
              "      <th>91</th>\n",
              "      <td>3.6.2020</td>\n",
              "      <td>145789</td>\n",
              "      <td>4.0</td>\n",
              "      <td>Koti on turvallisen tuntuinen paikka minulle</td>\n",
              "    </tr>\n",
              "    <tr>\n",
              "      <th>92</th>\n",
              "      <td>3.6.2020</td>\n",
              "      <td>222426</td>\n",
              "      <td>5.0</td>\n",
              "      <td>Koti on turvallisen tuntuinen paikka minulle</td>\n",
              "    </tr>\n",
              "    <tr>\n",
              "      <th>93</th>\n",
              "      <td>3.6.2020</td>\n",
              "      <td>2905202010</td>\n",
              "      <td>5.0</td>\n",
              "      <td>Koti on turvallisen tuntuinen paikka minulle</td>\n",
              "    </tr>\n",
              "  </tbody>\n",
              "</table>\n",
              "</div>"
            ],
            "text/plain": [
              "   Aikaleima  Nimimerkki  Vastaus                                       Kysymys\n",
              "86  3.6.2020        1500      4.0  Koti on turvallisen tuntuinen paikka minulle\n",
              "87  3.6.2020        7968      5.0  Koti on turvallisen tuntuinen paikka minulle\n",
              "88  3.6.2020        9253      5.0  Koti on turvallisen tuntuinen paikka minulle\n",
              "89  3.6.2020       34725      4.0  Koti on turvallisen tuntuinen paikka minulle\n",
              "90  3.6.2020      123098      5.0  Koti on turvallisen tuntuinen paikka minulle\n",
              "91  3.6.2020      145789      4.0  Koti on turvallisen tuntuinen paikka minulle\n",
              "92  3.6.2020      222426      5.0  Koti on turvallisen tuntuinen paikka minulle\n",
              "93  3.6.2020  2905202010      5.0  Koti on turvallisen tuntuinen paikka minulle"
            ]
          },
          "metadata": {
            "tags": []
          },
          "execution_count": 40
        }
      ]
    },
    {
      "cell_type": "code",
      "metadata": {
        "id": "QwXuk2dmvCbZ",
        "colab_type": "code",
        "outputId": "1d2f1e8d-825d-4e5b-85dc-47dcd7de7799",
        "colab": {
          "base_uri": "https://localhost:8080/",
          "height": 421
        }
      },
      "source": [
        "henkilo1 = dat[dat.Nimimerkki == 123098]\n",
        "\n",
        "henkilo1"
      ],
      "execution_count": 0,
      "outputs": [
        {
          "output_type": "execute_result",
          "data": {
            "text/html": [
              "<div>\n",
              "<style scoped>\n",
              "    .dataframe tbody tr th:only-of-type {\n",
              "        vertical-align: middle;\n",
              "    }\n",
              "\n",
              "    .dataframe tbody tr th {\n",
              "        vertical-align: top;\n",
              "    }\n",
              "\n",
              "    .dataframe thead th {\n",
              "        text-align: right;\n",
              "    }\n",
              "</style>\n",
              "<table border=\"1\" class=\"dataframe\">\n",
              "  <thead>\n",
              "    <tr style=\"text-align: right;\">\n",
              "      <th></th>\n",
              "      <th>Aikaleima</th>\n",
              "      <th>Nimimerkki</th>\n",
              "      <th>Vastaus</th>\n",
              "      <th>Kysymys</th>\n",
              "    </tr>\n",
              "  </thead>\n",
              "  <tbody>\n",
              "    <tr>\n",
              "      <th>6</th>\n",
              "      <td>29.5.2020</td>\n",
              "      <td>123098</td>\n",
              "      <td>5.0</td>\n",
              "      <td>Elamassani on ihmisia jotka osoittavat valitta...</td>\n",
              "    </tr>\n",
              "    <tr>\n",
              "      <th>21</th>\n",
              "      <td>29.5.2020</td>\n",
              "      <td>123098</td>\n",
              "      <td>4.0</td>\n",
              "      <td>Selvian arkielaman haasteista</td>\n",
              "    </tr>\n",
              "    <tr>\n",
              "      <th>36</th>\n",
              "      <td>1.6.2020</td>\n",
              "      <td>123098</td>\n",
              "      <td>2.0</td>\n",
              "      <td>Taman hetkisessa arjessani koen turvattomuutta</td>\n",
              "    </tr>\n",
              "    <tr>\n",
              "      <th>51</th>\n",
              "      <td>1.6.2020</td>\n",
              "      <td>123098</td>\n",
              "      <td>4.0</td>\n",
              "      <td>Soimaan itseani mokista tarpeettomasti</td>\n",
              "    </tr>\n",
              "    <tr>\n",
              "      <th>65</th>\n",
              "      <td>2.6.2020</td>\n",
              "      <td>123098</td>\n",
              "      <td>1.0</td>\n",
              "      <td>Olen ryhmassa mieluiten hiljaa sillä pelkaan s...</td>\n",
              "    </tr>\n",
              "    <tr>\n",
              "      <th>78</th>\n",
              "      <td>2.6.2020</td>\n",
              "      <td>123098</td>\n",
              "      <td>2.0</td>\n",
              "      <td>Pelkaan etta en ole riittavan hyva</td>\n",
              "    </tr>\n",
              "    <tr>\n",
              "      <th>90</th>\n",
              "      <td>3.6.2020</td>\n",
              "      <td>123098</td>\n",
              "      <td>5.0</td>\n",
              "      <td>Koti on turvallisen tuntuinen paikka minulle</td>\n",
              "    </tr>\n",
              "    <tr>\n",
              "      <th>99</th>\n",
              "      <td>3.6.2020</td>\n",
              "      <td>123098</td>\n",
              "      <td>4.0</td>\n",
              "      <td>Uudet asiat ovat mahdollisuuksia ei uhkia</td>\n",
              "    </tr>\n",
              "    <tr>\n",
              "      <th>109</th>\n",
              "      <td>4.6.2020</td>\n",
              "      <td>123098</td>\n",
              "      <td>4.0</td>\n",
              "      <td>Luotan tulevaan</td>\n",
              "    </tr>\n",
              "    <tr>\n",
              "      <th>123</th>\n",
              "      <td>4.6.2020</td>\n",
              "      <td>123098</td>\n",
              "      <td>4.0</td>\n",
              "      <td>Minun on aina suoriuduttava hyvin elamassani e...</td>\n",
              "    </tr>\n",
              "    <tr>\n",
              "      <th>136</th>\n",
              "      <td>5.6.2020</td>\n",
              "      <td>123098</td>\n",
              "      <td>4.0</td>\n",
              "      <td>Uskon etta selvian taman paivan tehtavistani h...</td>\n",
              "    </tr>\n",
              "    <tr>\n",
              "      <th>150</th>\n",
              "      <td>5.6.2020</td>\n",
              "      <td>123098</td>\n",
              "      <td>3.0</td>\n",
              "      <td>Haluan palautetta melko usein silla muuten en ...</td>\n",
              "    </tr>\n",
              "  </tbody>\n",
              "</table>\n",
              "</div>"
            ],
            "text/plain": [
              "     Aikaleima  ...                                            Kysymys\n",
              "6    29.5.2020  ...  Elamassani on ihmisia jotka osoittavat valitta...\n",
              "21   29.5.2020  ...                      Selvian arkielaman haasteista\n",
              "36    1.6.2020  ...     Taman hetkisessa arjessani koen turvattomuutta\n",
              "51    1.6.2020  ...             Soimaan itseani mokista tarpeettomasti\n",
              "65    2.6.2020  ...  Olen ryhmassa mieluiten hiljaa sillä pelkaan s...\n",
              "78    2.6.2020  ...                 Pelkaan etta en ole riittavan hyva\n",
              "90    3.6.2020  ...       Koti on turvallisen tuntuinen paikka minulle\n",
              "99    3.6.2020  ...          Uudet asiat ovat mahdollisuuksia ei uhkia\n",
              "109   4.6.2020  ...                                    Luotan tulevaan\n",
              "123   4.6.2020  ...  Minun on aina suoriuduttava hyvin elamassani e...\n",
              "136   5.6.2020  ...  Uskon etta selvian taman paivan tehtavistani h...\n",
              "150   5.6.2020  ...  Haluan palautetta melko usein silla muuten en ...\n",
              "\n",
              "[12 rows x 4 columns]"
            ]
          },
          "metadata": {
            "tags": []
          },
          "execution_count": 41
        }
      ]
    },
    {
      "cell_type": "code",
      "metadata": {
        "id": "fXUxY1-ltvzK",
        "colab_type": "code",
        "outputId": "6c50d999-948d-400f-908d-7fc42e5f3ad6",
        "colab": {
          "base_uri": "https://localhost:8080/",
          "height": 502
        }
      },
      "source": [
        "sns.set(style=\"whitegrid\", rc={'figure.figsize':(16,8)})\n",
        "\n",
        "ax = sns.barplot(x=dat.Nimimerkki, y=dat2.Vastaus, data=dat2)"
      ],
      "execution_count": 0,
      "outputs": [
        {
          "output_type": "display_data",
          "data": {
            "image/png": "[encoded data removed]",
            "text/plain": [
              "<Figure size 1152x576 with 1 Axes>"
            ]
          },
          "metadata": {
            "tags": []
          }
        }
      ]
    },
    {
      "cell_type": "code",
      "metadata": {
        "id": "iQpFFypXuX4o",
        "colab_type": "code",
        "colab": {}
      },
      "source": [
        "sns.set(style=\"whitegrid\", rc={'figure.figsize':(16,8)})\n",
        "\n",
        "ax = sns.barplot(x=dat.Nimimerkki, y=dat2.Arvo, data=dat2)"
      ],
      "execution_count": 0,
      "outputs": []
    },
    {
      "cell_type": "code",
      "metadata": {
        "id": "lHs83ayXuI-N",
        "colab_type": "code",
        "colab": {}
      },
      "source": [
        ""
      ],
      "execution_count": 0,
      "outputs": []
    },
    {
      "cell_type": "code",
      "metadata": {
        "id": "QmDca178nwGp",
        "colab_type": "code",
        "colab": {}
      },
      "source": [
        ""
      ],
      "execution_count": 0,
      "outputs": []
    },
    {
      "cell_type": "code",
      "metadata": {
        "id": "EiopkKwljrOR",
        "colab_type": "code",
        "colab": {}
      },
      "source": [
        ""
      ],
      "execution_count": 0,
      "outputs": []
    },
    {
      "cell_type": "code",
      "metadata": {
        "id": "JDKY1-bQipcj",
        "colab_type": "code",
        "colab": {}
      },
      "source": [
        ""
      ],
      "execution_count": 0,
      "outputs": []
    }
  ]
}